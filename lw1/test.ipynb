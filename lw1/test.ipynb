{
 "cells": [
  {
   "cell_type": "code",
   "id": "initial_id",
   "metadata": {
    "collapsed": true,
    "ExecuteTime": {
     "end_time": "2025-02-22T08:24:20.657368Z",
     "start_time": "2025-02-22T08:24:20.650781Z"
    }
   },
   "source": [
    "def to_direct_binary(a: int, bits: int = 8) -> str:\n",
    "    result = ['0' for i in range(bits)]\n",
    "\n",
    "    if a < 0:\n",
    "        result[-1] = '1'\n",
    "        a *= -1\n",
    "\n",
    "    for i in range(bits):\n",
    "        result[i] = str(a % 2)\n",
    "        a = a // 2\n",
    "        if a == 0:\n",
    "            break\n",
    "\n",
    "    return ''.join(result[::-1])"
   ],
   "outputs": [],
   "execution_count": 2
  },
  {
   "metadata": {
    "ExecuteTime": {
     "end_time": "2025-02-19T07:48:29.481881Z",
     "start_time": "2025-02-19T07:48:29.477439Z"
    }
   },
   "cell_type": "code",
   "source": [
    "def to_reverse_binary(a: int, bits: int = 8) -> str:\n",
    "    if a >= 0:\n",
    "        return to_direct_binary(a, bits)\n",
    "    else:\n",
    "        return '1' + to_direct_binary(a, bits)[1:].translate(str.maketrans('01', '10'))"
   ],
   "id": "fb2f71dd2c5606e1",
   "outputs": [],
   "execution_count": 2
  },
  {
   "metadata": {
    "ExecuteTime": {
     "end_time": "2025-02-19T07:48:29.644840Z",
     "start_time": "2025-02-19T07:48:29.641731Z"
    }
   },
   "cell_type": "code",
   "source": [
    "def to_additional_binary(a: int, bits: int = 8) -> str:\n",
    "    if a >= 0:\n",
    "        return to_direct_binary(a, bits)\n",
    "    else:\n",
    "        return '1' + to_direct_binary(abs(a) - 1, bits)[1:].translate(str.maketrans('01', '10'))"
   ],
   "id": "f2594c3e99a46cd6",
   "outputs": [],
   "execution_count": 3
  },
  {
   "metadata": {
    "ExecuteTime": {
     "end_time": "2025-02-18T09:46:09.505948Z",
     "start_time": "2025-02-18T09:46:09.481934Z"
    }
   },
   "cell_type": "code",
   "source": [
    "print('to_direct_binary')\n",
    "for i in range(-4, 4):\n",
    "    print(f'i: {i}\\tbin: {to_direct_binary(i)}')\n",
    "\n",
    "print('\\nto_reverse_binary')\n",
    "for i in range(-4, 4):\n",
    "    print(f'i: {i}\\tbin: {to_reverse_binary(i)}')\n",
    "\n",
    "print('\\nto_additional_binary')\n",
    "for i in range(-4, 4):\n",
    "    print(f'i: {i}\\tbin: {to_additional_binary(i)}')"
   ],
   "id": "744be5ad3936e0c1",
   "outputs": [
    {
     "name": "stdout",
     "output_type": "stream",
     "text": [
      "to_direct_binary\n",
      "i: -4\tbin: 10000100\n",
      "i: -3\tbin: 10000011\n",
      "i: -2\tbin: 10000010\n",
      "i: -1\tbin: 10000001\n",
      "i: 0\tbin: 00000000\n",
      "i: 1\tbin: 00000001\n",
      "i: 2\tbin: 00000010\n",
      "i: 3\tbin: 00000011\n",
      "\n",
      "to_reverse_binary\n",
      "i: -4\tbin: 11111011\n",
      "i: -3\tbin: 11111100\n",
      "i: -2\tbin: 11111101\n",
      "i: -1\tbin: 11111110\n",
      "i: 0\tbin: 00000000\n",
      "i: 1\tbin: 00000001\n",
      "i: 2\tbin: 00000010\n",
      "i: 3\tbin: 00000011\n",
      "\n",
      "to_additional_binary\n",
      "i: -4\tbin: 11111100\n",
      "i: -3\tbin: 11111101\n",
      "i: -2\tbin: 11111110\n",
      "i: -1\tbin: 11111111\n",
      "i: 0\tbin: 00000000\n",
      "i: 1\tbin: 00000001\n",
      "i: 2\tbin: 00000010\n",
      "i: 3\tbin: 00000011\n"
     ]
    }
   ],
   "execution_count": 9
  },
  {
   "metadata": {
    "ExecuteTime": {
     "end_time": "2025-02-19T07:48:31.220610Z",
     "start_time": "2025-02-19T07:48:31.211512Z"
    }
   },
   "cell_type": "code",
   "source": [
    "def add_binary(a: str, b: str) -> str:\n",
    "    max_len = max(len(a), len(b))\n",
    "    result = ''\n",
    "    carry = 0\n",
    "    a = a[0] + '0' * (max_len - len(a)) + a[1:]\n",
    "    b = b[0] + '0' * (max_len - len(b)) + b[1:]\n",
    "    for i in range(max_len - 1, -1, -1):\n",
    "        if a[i] == '0' and b[i] == '0' and carry == 0:\n",
    "            result = '0' + result\n",
    "        elif a[i] == '0' and b[i] == '0' and carry == 1:\n",
    "            result = '1' + result\n",
    "            carry = 0\n",
    "        elif a[i] == '0' and b[i] == '1' and carry == 0:\n",
    "            result = '1' + result\n",
    "        elif a[i] == '0' and b[i] == '1' and carry == 1:\n",
    "            result = '0' + result\n",
    "        elif a[i] == '1' and b[i] == '0' and carry == 0:\n",
    "            result = '1' + result\n",
    "        elif a[i] == '1' and b[i] == '0' and carry == 1:\n",
    "            result = '0' + result\n",
    "        elif a[i] == '1' and b[i] == '1' and carry == 0:\n",
    "            result = '0' + result\n",
    "            carry = 1\n",
    "        elif a[i] == '1' and b[i] == '1' and carry == 1:\n",
    "            result = '1' + result\n",
    "            carry = 1\n",
    "        else:\n",
    "            raise Exception\n",
    "    return result"
   ],
   "id": "e64cd5e2f0a5a899",
   "outputs": [],
   "execution_count": 4
  },
  {
   "metadata": {
    "ExecuteTime": {
     "end_time": "2025-02-19T07:59:28.361565Z",
     "start_time": "2025-02-19T07:59:28.356158Z"
    }
   },
   "cell_type": "code",
   "source": [
    "def sub_additional_binary(a: str, b: str) -> str:\n",
    "    opposite_b = b.translate(str.maketrans('01', '10'))\n",
    "    return add_binary(add_binary(a, opposite_b), to_additional_binary(1))"
   ],
   "id": "2b3949fae9bcb73a",
   "outputs": [],
   "execution_count": 14
  },
  {
   "metadata": {
    "ExecuteTime": {
     "end_time": "2025-02-19T08:42:29.927057Z",
     "start_time": "2025-02-19T08:42:29.920409Z"
    }
   },
   "cell_type": "code",
   "source": [
    "def mul_direct_binary(a: str, b: str) -> str:\n",
    "    result = '0' * max(len(a), len(b)) * 2\n",
    "    for i in range(len(b) - 1):\n",
    "        if b[len(b) - i - 1] == '1':\n",
    "            result = add_binary(result, a[1:] + '0' * i)\n",
    "    if a[0] != b[0]:\n",
    "        result = '1' + result[1:]\n",
    "    if '1' not in result[1 : len(result) // 2 + 1]:\n",
    "        result = result[0] + result[len(result) // 2 + 1 :]\n",
    "    return result"
   ],
   "id": "4eea043060c2ce4f",
   "outputs": [],
   "execution_count": 70
  },
  {
   "metadata": {
    "ExecuteTime": {
     "end_time": "2025-02-19T08:43:15.944847Z",
     "start_time": "2025-02-19T08:43:15.940475Z"
    }
   },
   "cell_type": "code",
   "source": [
    "a = 10\n",
    "b = -12\n",
    "print(to_direct_binary(a))\n",
    "print(to_direct_binary(b))\n",
    "\n",
    "print(mul_direct_binary(to_direct_binary(a), to_direct_binary(b)))\n",
    "print(to_direct_binary(a * b))\n",
    "print(to_direct_binary(a * b) == mul_direct_binary(to_direct_binary(a), to_direct_binary(b)))"
   ],
   "id": "6154dd3752a194e8",
   "outputs": [
    {
     "name": "stdout",
     "output_type": "stream",
     "text": [
      "00001010\n",
      "10001100\n",
      "11111000\n",
      "11111000\n",
      "True\n"
     ]
    }
   ],
   "execution_count": 79
  },
  {
   "metadata": {
    "ExecuteTime": {
     "end_time": "2025-02-19T08:40:39.297875Z",
     "start_time": "2025-02-19T08:40:39.292958Z"
    }
   },
   "cell_type": "code",
   "source": [
    "def div_direct_binary(a: str, b: str) -> list[str, str]:\n",
    "    result = ['0' * max(len(a), len(b)), '00000']\n",
    "    "
   ],
   "id": "95f193d86675532d",
   "outputs": [],
   "execution_count": 65
  },
  {
   "metadata": {
    "ExecuteTime": {
     "end_time": "2025-02-22T08:29:41.200954Z",
     "start_time": "2025-02-22T08:29:41.194561Z"
    }
   },
   "cell_type": "code",
   "source": "53*9",
   "id": "85daa5cc01759ebb",
   "outputs": [
    {
     "data": {
      "text/plain": [
       "477"
      ]
     },
     "execution_count": 12,
     "metadata": {},
     "output_type": "execute_result"
    }
   ],
   "execution_count": 12
  },
  {
   "metadata": {
    "ExecuteTime": {
     "end_time": "2025-02-22T08:30:16.597443Z",
     "start_time": "2025-02-22T08:30:16.591415Z"
    }
   },
   "cell_type": "code",
   "source": [
    "print(to_direct_binary(477, bits=12))\n",
    "print(to_direct_binary(9))\n",
    "print(to_direct_binary(53))"
   ],
   "id": "94ab1aa88abaa171",
   "outputs": [
    {
     "name": "stdout",
     "output_type": "stream",
     "text": [
      "000111011101\n",
      "00001001\n",
      "00110101\n"
     ]
    }
   ],
   "execution_count": 14
  },
  {
   "metadata": {
    "ExecuteTime": {
     "end_time": "2025-03-01T06:48:59.170394Z",
     "start_time": "2025-03-01T06:48:59.168258Z"
    }
   },
   "cell_type": "code",
   "source": "",
   "id": "3dd4c40cf65d4a3f",
   "outputs": [],
   "execution_count": null
  },
  {
   "metadata": {
    "ExecuteTime": {
     "end_time": "2025-03-01T06:48:59.335504Z",
     "start_time": "2025-03-01T06:48:59.333571Z"
    }
   },
   "cell_type": "code",
   "source": "",
   "id": "21f911989a61a1db",
   "outputs": [],
   "execution_count": null
  },
  {
   "metadata": {
    "ExecuteTime": {
     "end_time": "2025-03-01T06:48:59.380132Z",
     "start_time": "2025-03-01T06:48:59.377682Z"
    }
   },
   "cell_type": "code",
   "source": "",
   "id": "234c0a818dd636e5",
   "outputs": [],
   "execution_count": null
  },
  {
   "metadata": {
    "ExecuteTime": {
     "end_time": "2025-03-01T06:48:59.428197Z",
     "start_time": "2025-03-01T06:48:59.425310Z"
    }
   },
   "cell_type": "code",
   "source": "",
   "id": "e70a6c4a40034579",
   "outputs": [],
   "execution_count": null
  },
  {
   "metadata": {
    "ExecuteTime": {
     "end_time": "2025-03-01T06:48:59.475270Z",
     "start_time": "2025-03-01T06:48:59.472617Z"
    }
   },
   "cell_type": "code",
   "source": "",
   "id": "1330e99598e1565c",
   "outputs": [],
   "execution_count": null
  },
  {
   "metadata": {
    "ExecuteTime": {
     "end_time": "2025-03-01T07:16:57.130486Z",
     "start_time": "2025-03-01T07:16:57.126365Z"
    }
   },
   "cell_type": "code",
   "source": "str(int(True))",
   "id": "a54b13525ea65d22",
   "outputs": [
    {
     "data": {
      "text/plain": [
       "'1'"
      ]
     },
     "execution_count": 10,
     "metadata": {},
     "output_type": "execute_result"
    }
   ],
   "execution_count": 10
  },
  {
   "metadata": {
    "ExecuteTime": {
     "end_time": "2025-03-01T06:50:22.662292Z",
     "start_time": "2025-03-01T06:50:22.654906Z"
    }
   },
   "cell_type": "code",
   "source": "",
   "id": "a23ee6cddf222f3e",
   "outputs": [
    {
     "data": {
      "text/plain": [
       "'135'"
      ]
     },
     "execution_count": 8,
     "metadata": {},
     "output_type": "execute_result"
    }
   ],
   "execution_count": 8
  },
  {
   "metadata": {},
   "cell_type": "code",
   "outputs": [],
   "execution_count": null,
   "source": "",
   "id": "29debd14f0ed2ce3"
  }
 ],
 "metadata": {
  "kernelspec": {
   "display_name": "Python 3",
   "language": "python",
   "name": "python3"
  },
  "language_info": {
   "codemirror_mode": {
    "name": "ipython",
    "version": 2
   },
   "file_extension": ".py",
   "mimetype": "text/x-python",
   "name": "python",
   "nbconvert_exporter": "python",
   "pygments_lexer": "ipython2",
   "version": "2.7.6"
  }
 },
 "nbformat": 4,
 "nbformat_minor": 5
}
